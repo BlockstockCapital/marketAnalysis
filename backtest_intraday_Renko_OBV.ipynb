{
 "cells": [
  {
   "cell_type": "code",
   "execution_count": 140,
   "metadata": {},
   "outputs": [],
   "source": [
    "import pandas as pd\n",
    "import matplotlib.pyplot as plt\n",
    "%matplotlib inline\n",
    "import numpy as np\n",
    "import time\n",
    "import statsmodels.api as sm\n",
    "import sys\n",
    "from stocktrends import Renko\n",
    "import talib\n",
    "import yfinance as yf\n",
    "import copy\n",
    "from alpha_vantage.timeseries import TimeSeries\n",
    "from collections import OrderedDict\n",
    "from operator import itemgetter"
   ]
  },
  {
   "cell_type": "code",
   "execution_count": 141,
   "metadata": {},
   "outputs": [],
   "source": [
    "# !{sys.executable} -m pip install ..."
   ]
  },
  {
   "cell_type": "markdown",
   "metadata": {},
   "source": [
    "### Tech indicators"
   ]
  },
  {
   "cell_type": "code",
   "execution_count": 142,
   "metadata": {},
   "outputs": [],
   "source": [
    "def ATR(DF, n):\n",
    "    df = DF.copy()\n",
    "    df['H-L'] = abs(df['High'] - df['Low'])\n",
    "    df['H-PC'] = abs(df['High'] - df['Close'].shift(1))\n",
    "    df['L-PC'] = abs(df['Low'] - df['Close'].shift(1))\n",
    "    df['TR'] = df[['H-L', 'H-PC', 'L-PC']].max(axis=1, skipna=False)\n",
    "    df['ATR'] = df['TR'].rolling(n).mean()\n",
    "#     df['ATR'] = df['TR'].ewm(span=n, adjust=False, min_periods=n).mean()\n",
    "    df2 = df.drop(['H-L', 'H-PC', 'L-PC'], axis=1)\n",
    "    return df2"
   ]
  },
  {
   "cell_type": "code",
   "execution_count": 143,
   "metadata": {},
   "outputs": [],
   "source": [
    "def OBV(DF):\n",
    "    df = DF.copy()\n",
    "    df['daily return'] = df['Close'].pct_change()\n",
    "    df['direction'] = np.where(df['daily return'] > 0, 1, -1)\n",
    "    df['direction'][0] = 0\n",
    "    df['vol_adj'] = df['Volume'] * df['direction']\n",
    "    df['obv'] = df['vol_adj'].cumsum()\n",
    "    return df['obv']"
   ]
  },
  {
   "cell_type": "code",
   "execution_count": 144,
   "metadata": {},
   "outputs": [],
   "source": [
    "# def slope(DF, n):\n",
    "#     df  =DF.copy()\n",
    "#     \"function to calc the slope of the consecutive on a plot\"\n",
    "# #     ser = df['Close']/\n",
    "#     slopes = [i * 0 for i in range(n-1)]\n",
    "#     for i in range(n, len(ser) + 1):\n",
    "#         y = ser[i-n:i]\n",
    "#         x = np.array(range(n))\n",
    "#         y_scaled = (y - y.min()) / (y.max() - y.min())\n",
    "#         x_scaled = (x - x.min()) / (x.max() - x.min())\n",
    "#         x_scaled = sm.add_constant(x_scaled)\n",
    "#         model = sm.OLS(y_scaled, x_scaled)\n",
    "#         results = model.fit()\n",
    "#         slopes.append(results.params[-1])\n",
    "#     slope_angle = np.rad2deg(np.arctan(np.array(slopes)))\n",
    "#     return np.array(slope_angle)\n",
    "\n",
    "\n",
    "def slope(ser,n):\n",
    "#     df = DF.copy()\n",
    "    \"function to calculate the slope of n consecutive points on a plot\"\n",
    "    slopes = [i*0 for i in range(n-1)]\n",
    "    for i in range(n,len(ser)+1):\n",
    "        y = ser[i-n:i]\n",
    "        x = np.array(range(n))\n",
    "        y_scaled = (y - y.min())/(y.max() - y.min())\n",
    "        x_scaled = (x - x.min())/(x.max() - x.min())\n",
    "        x_scaled = sm.add_constant(x_scaled)\n",
    "        model = sm.OLS(y_scaled,x_scaled)\n",
    "        results = model.fit()\n",
    "        slopes.append(results.params[-1])\n",
    "    slope_angle = (np.rad2deg(np.arctan(np.array(slopes))))\n",
    "    return np.array(slope_angle)"
   ]
  },
  {
   "cell_type": "code",
   "execution_count": 145,
   "metadata": {},
   "outputs": [],
   "source": [
    "def renko_DF(DF):\n",
    "    df = DF.copy()\n",
    "    df.reset_index(inplace=True)\n",
    "    df = df.iloc[:, [0, 1, 2, 3, 4]]\n",
    "    df.columns = ['date', 'open', 'high', 'low', 'close']\n",
    "    df2 = Renko(df)\n",
    "    df2.brick_size = max(0.5, round(ATR(DF, 120)['ATR'][-1], 0))\n",
    "    renko_df  = df2.get_ohlc_data()\n",
    "    renko_df['bar_num'] = np.where(renko_df['uptrend'] == True, 1, np.where(renko_df['uptrend'] == False, -1, 0))\n",
    "    for i in range(1, len(renko_df['bar_num'])):\n",
    "        if renko_df['bar_num'][i] > 0 and renko_df['bar_num'][i-1] > 0:\n",
    "            renko_df['bar_num'][i] += renko_df['bar_num'][i-1]\n",
    "        elif renko_df['bar_num'][i] < 0 and renko_df['bar_num'][i-1] < 0:\n",
    "            renko_df['bar_num'][i] += renko_df['bar_num'][i-1]\n",
    "    renko_df.drop_duplicates(subset = 'date', keep='last', inplace=True)\n",
    "    return renko_df\n",
    "        "
   ]
  },
  {
   "cell_type": "markdown",
   "metadata": {},
   "source": [
    "### KPI for the strategy"
   ]
  },
  {
   "cell_type": "code",
   "execution_count": 146,
   "metadata": {},
   "outputs": [],
   "source": [
    "def CAGR(DF):\n",
    "    df = DF.copy()\n",
    "#     df['daily_ret'] = df['close'].pct_change()\n",
    "    df['cum_ret'] = (1 + df['ret']).cumprod()\n",
    "#     print(df)\n",
    "    n = len(df) / (252 * 78)\n",
    "    CAGR = (df['cum_ret'].tolist()[-1]) ** (1/n) - 1\n",
    "    return CAGR\n",
    "\n",
    "\n",
    "def Vola(DF):\n",
    "    df = DF.copy()\n",
    "#     df['daily_ret'] = df['close'].pct_change()\n",
    "    vola = df['ret'].std()\n",
    "    volatility = vola * np.sqrt(252 * 78)\n",
    "#     annual_vola = vola * np.sqrt(12)\n",
    "# #     week_vola = vola * np.sqrt(52)\n",
    "#     month_vola = vola * np.sqrt(12)\n",
    "    return volatility\n",
    "\n",
    "\n",
    "def Sharpe(DF, rf):\n",
    "    df = DF.copy()\n",
    "    sr = ((CAGR(df) - rf) / Vola(df))\n",
    "    return sr\n",
    "\n",
    "\n",
    "def Sortino(DF, rf):\n",
    "    df = DF.copy()\n",
    "    df['ret'] = df['close'].pct_change()\n",
    "    neg_vola = df[df['ret'] < 0]['ret'].std() * np.sqrt(252 * 78)\n",
    "    sortino = (CAGR(df) - rf) / neg_vola\n",
    "    return sortino\n",
    "\n",
    "\n",
    "def max_dd(DF):\n",
    "    df = DF.copy()\n",
    "#     df['mon_ret'] = df['close'].pct_change()\n",
    "    df['cum_ret'] = (1 + df['ret']).cumprod()\n",
    "    df['cum_roll_max'] = df['cum_ret'].cummax()\n",
    "    df['drawdown'] = df['cum_roll_max'] - df['cum_ret']\n",
    "    df['drawdown_pct'] = df['drawdown'] / df['cum_roll_max']\n",
    "    max_dd = df['drawdown_pct'].max()\n",
    "    return max_dd\n",
    "\n",
    "\n",
    "def Calmar(DF):\n",
    "    df = DF.copy()\n",
    "    clmr = CAGR(df) / max_dd(df)\n",
    "    return clmr "
   ]
  },
  {
   "cell_type": "markdown",
   "metadata": {},
   "source": [
    "### Data fetching"
   ]
  },
  {
   "cell_type": "markdown",
   "metadata": {},
   "source": [
    "##### Bitcoin"
   ]
  },
  {
   "cell_type": "code",
   "execution_count": 147,
   "metadata": {},
   "outputs": [],
   "source": [
    "# start_date = '20140101'\n",
    "# # end_date = '20191101'\n",
    "# end_date = time.strftime(\"%Y%m%d\")"
   ]
  },
  {
   "cell_type": "code",
   "execution_count": 148,
   "metadata": {},
   "outputs": [],
   "source": [
    "# url =\"https://coinmarketcap.com/currencies/bitcoin/historical-data/?start=\" + start_date + \"&end=\" + end_date\n",
    "# example_df = pd.read_html(url)\n",
    "\n",
    "# data = example_df[2]\n",
    "# df =pd.DataFrame(data)\n",
    "\n",
    "# df['Date'] =  pd.to_datetime(df['Date']) # date\n",
    "# df.columns = ['Date','Open','High','Low','Close','Volume','Market Cap']\n",
    "# df.set_index('Date',inplace=True)\n",
    "# df.sort_index(inplace=True)\n"
   ]
  },
  {
   "cell_type": "markdown",
   "metadata": {},
   "source": [
    "##### Stocks"
   ]
  },
  {
   "cell_type": "code",
   "execution_count": 149,
   "metadata": {},
   "outputs": [],
   "source": [
    "tickers = ['AAPL', 'MMM', 'AMZN', 'MSFT', 'IBM', 'CAT', 'TSLA', 'EW']\n",
    "\n",
    "start_date_stocks = '2000-01-01'\n",
    "# end_date = "
   ]
  },
  {
   "cell_type": "code",
   "execution_count": 150,
   "metadata": {},
   "outputs": [
    {
     "name": "stdout",
     "output_type": "stream",
     "text": [
      "CAT failed to fetch data..retrying\n",
      "TSLA failed to fetch data..retrying\n",
      "EW failed to fetch data..retrying\n",
      "CAT failed to fetch data..retrying\n",
      "TSLA failed to fetch data..retrying\n",
      "EW failed to fetch data..retrying\n",
      "CAT failed to fetch data..retrying\n",
      "TSLA failed to fetch data..retrying\n",
      "EW failed to fetch data..retrying\n",
      "CAT failed to fetch data..retrying\n",
      "TSLA failed to fetch data..retrying\n",
      "EW failed to fetch data..retrying\n",
      "CAT failed to fetch data..retrying\n",
      "TSLA failed to fetch data..retrying\n",
      "EW failed to fetch data..retrying\n",
      "CAT failed to fetch data..retrying\n",
      "TSLA failed to fetch data..retrying\n",
      "EW failed to fetch data..retrying\n"
     ]
    }
   ],
   "source": [
    "ohlc_intraday = {} # to store stock data\n",
    "key_path = 'IFOZ40XUSKNEY85Z'\n",
    "ts = TimeSeries(key=key_path, output_format='pandas')\n",
    "# ts = timeseries(key=open(key_path, 'r').read(), output_format='pandas')\n",
    "\n",
    "attempt = 0 # initializing passthrough variable\n",
    "drop = [] # initializing list to store stock whose close price was successfuly extracted\n",
    "\n",
    "while len(tickers) != 0 and attempt <= 5:\n",
    "    tickers = [j for j in tickers if j not in drop] # removing stocks which tiker has been extracted\n",
    "    for i in range(len(tickers)):\n",
    "        try:\n",
    "            ohlc_intraday[tickers[i]] = ts.get_intraday(symbol=tickers[i], interval = '5min', outputsize='full')[0]\n",
    "            ohlc_intraday[tickers[i]].columns = ['Open', 'High', 'Low', 'Close', 'Volume']\n",
    "            ohlc_intraday[tickers[i]].sort_index(inplace=True)\n",
    "            drop.append(tickers[i])\n",
    "        except:\n",
    "            print(tickers[i], 'failed to fetch data..retrying')\n",
    "            continue\n",
    "    attempt += 1\n",
    "\n",
    "\n",
    "tickers = ohlc_intraday.keys() #redefine tickers variable after removing any tickers with corrupted data\n"
   ]
  },
  {
   "cell_type": "code",
   "execution_count": 151,
   "metadata": {},
   "outputs": [
    {
     "name": "stdout",
     "output_type": "stream",
     "text": [
      "merging for  AAPL\n"
     ]
    },
    {
     "name": "stderr",
     "output_type": "stream",
     "text": [
      "C:\\Users\\ioshe\\Anaconda3\\envs\\catalyst\\lib\\site-packages\\ipykernel_launcher.py:12: SettingWithCopyWarning: \n",
      "A value is trying to be set on a copy of a slice from a DataFrame\n",
      "\n",
      "See the caveats in the documentation: http://pandas.pydata.org/pandas-docs/stable/user_guide/indexing.html#returning-a-view-versus-a-copy\n",
      "  if sys.path[0] == '':\n",
      "C:\\Users\\ioshe\\Anaconda3\\envs\\catalyst\\lib\\site-packages\\ipykernel_launcher.py:14: SettingWithCopyWarning: \n",
      "A value is trying to be set on a copy of a slice from a DataFrame\n",
      "\n",
      "See the caveats in the documentation: http://pandas.pydata.org/pandas-docs/stable/user_guide/indexing.html#returning-a-view-versus-a-copy\n",
      "  \n",
      "C:\\Users\\ioshe\\Anaconda3\\envs\\catalyst\\lib\\site-packages\\ipykernel_launcher.py:5: SettingWithCopyWarning: \n",
      "A value is trying to be set on a copy of a slice from a DataFrame\n",
      "\n",
      "See the caveats in the documentation: http://pandas.pydata.org/pandas-docs/stable/user_guide/indexing.html#returning-a-view-versus-a-copy\n",
      "  \"\"\"\n"
     ]
    },
    {
     "name": "stdout",
     "output_type": "stream",
     "text": [
      "merging for  MMM\n",
      "merging for  AMZN\n",
      "merging for  MSFT\n",
      "merging for  IBM\n"
     ]
    }
   ],
   "source": [
    "#Merging renko df with original ohlc df\n",
    "ohlc_renko = {}\n",
    "df = copy.deepcopy(ohlc_intraday)\n",
    "tickers_signal = {}\n",
    "tickers_ret = {}\n",
    "for ticker in tickers:\n",
    "    print(\"merging for \",ticker)\n",
    "    renko = renko_DF(df[ticker])\n",
    "    renko.columns = [\"Date\",\"open\",\"high\",\"low\",\"close\",\"uptrend\",\"bar_num\"]\n",
    "    df[ticker][\"Date\"] = df[ticker].index\n",
    "    ohlc_renko[ticker] = df[ticker].merge(renko.loc[:,[\"Date\",\"bar_num\"]],how=\"outer\",on=\"Date\")\n",
    "    ohlc_renko[ticker][\"bar_num\"].fillna(method='ffill',inplace=True)\n",
    "    ohlc_renko[ticker][\"obv\"]= OBV(ohlc_renko[ticker])\n",
    "    ohlc_renko[ticker][\"obv_slope\"]= slope(ohlc_renko[ticker][\"obv\"],5)\n",
    "    tickers_signal[ticker] = \"\"\n",
    "    tickers_ret[ticker] = []"
   ]
  },
  {
   "cell_type": "code",
   "execution_count": 152,
   "metadata": {},
   "outputs": [
    {
     "name": "stdout",
     "output_type": "stream",
     "text": [
      "calculating daily returns for AAPL\n",
      "calculating daily returns for MMM\n",
      "calculating daily returns for AMZN\n",
      "calculating daily returns for MSFT\n",
      "calculating daily returns for IBM\n"
     ]
    }
   ],
   "source": [
    "#Identifying signals and calculating daily return\n",
    "for ticker in tickers:\n",
    "    print('calculating daily returns for',ticker)\n",
    "    for i in range(len(ohlc_intraday[ticker])):\n",
    "        if tickers_signal[ticker] == '':\n",
    "            tickers_ret[ticker].append(0)\n",
    "            if ohlc_renko[ticker]['bar_num'][i] >= 2 and ohlc_renko[ticker]['obv_slope'][i] > 30:\n",
    "                tickers_signal[ticker] = 'Buy'\n",
    "            elif ohlc_renko[ticker]['bar_num'][i] <= -2 and ohlc_renko[ticker]['obv_slope'][i] < -30:\n",
    "                tickers_signal[ticker] = 'Sell'\n",
    "        \n",
    "        elif tickers_signal[ticker] == 'Buy':\n",
    "            tickers_ret[ticker].append((ohlc_renko[ticker]['Close'][i] / ohlc_renko[ticker]['Close'][i-1])-1)\n",
    "            if ohlc_renko[ticker]['bar_num'][i]<=-2 and ohlc_renko[ticker]['obv_slope'][i]<-30:\n",
    "                tickers_signal[ticker] = 'Sell'\n",
    "            elif ohlc_renko[ticker]['bar_num'][i]<2:\n",
    "                tickers_signal[ticker] = ''\n",
    "                \n",
    "        elif tickers_signal[ticker] == 'Sell':\n",
    "            tickers_ret[ticker].append((ohlc_renko[ticker]['Close'][i-1] / ohlc_renko[ticker]['Close'][i])-1)\n",
    "            if ohlc_renko[ticker]['bar_num'][i] >= 2 and ohlc_renko[ticker]['obv_slope'][i] > 30:\n",
    "                tickers_signal[ticker] = 'Buy'\n",
    "            elif ohlc_renko[ticker]['bar_num'][i] >- 2:\n",
    "                tickers_signal[ticker] = ''\n",
    "    ohlc_renko[ticker]['ret'] = np.array(tickers_ret[ticker])"
   ]
  },
  {
   "cell_type": "code",
   "execution_count": 153,
   "metadata": {},
   "outputs": [
    {
     "name": "stdout",
     "output_type": "stream",
     "text": [
      "0.41985874786321276\n",
      "7.557143712872562\n",
      "0.009613410709593215\n"
     ]
    }
   ],
   "source": [
    "#calculating overall strategy's KPIs\n",
    "strategy_df = pd.DataFrame()\n",
    "for ticker in tickers:\n",
    "    strategy_df[ticker] = ohlc_renko[ticker]['ret']\n",
    "strategy_df[\"ret\"] = strategy_df.mean(axis=1)\n",
    "print(CAGR(strategy_df))\n",
    "print(Sharpe(strategy_df,0.02))\n",
    "print(max_dd(strategy_df))"
   ]
  },
  {
   "cell_type": "code",
   "execution_count": 154,
   "metadata": {},
   "outputs": [
    {
     "data": {
      "image/png": "[encoded data removed]",
      "text/plain": [
       "<Figure size 432x288 with 1 Axes>"
      ]
     },
     "metadata": {
      "needs_background": "light"
     },
     "output_type": "display_data"
    }
   ],
   "source": [
    "# vizualization of strategy return\n",
    "(1 + strategy_df['ret']).cumprod().plot();"
   ]
  },
  {
   "cell_type": "code",
   "execution_count": 155,
   "metadata": {},
   "outputs": [
    {
     "data": {
      "text/html": [
       "<div>\n",
       "<style scoped>\n",
       "    .dataframe tbody tr th:only-of-type {\n",
       "        vertical-align: middle;\n",
       "    }\n",
       "\n",
       "    .dataframe tbody tr th {\n",
       "        vertical-align: top;\n",
       "    }\n",
       "\n",
       "    .dataframe thead th {\n",
       "        text-align: right;\n",
       "    }\n",
       "</style>\n",
       "<table border=\"1\" class=\"dataframe\">\n",
       "  <thead>\n",
       "    <tr style=\"text-align: right;\">\n",
       "      <th></th>\n",
       "      <th>AAPL</th>\n",
       "      <th>MMM</th>\n",
       "      <th>AMZN</th>\n",
       "      <th>MSFT</th>\n",
       "      <th>IBM</th>\n",
       "      <th>ret</th>\n",
       "    </tr>\n",
       "  </thead>\n",
       "  <tbody>\n",
       "    <tr>\n",
       "      <th>0</th>\n",
       "      <td>0.000000</td>\n",
       "      <td>0.000000</td>\n",
       "      <td>0.000000</td>\n",
       "      <td>0.000000</td>\n",
       "      <td>0.0</td>\n",
       "      <td>0.000000</td>\n",
       "    </tr>\n",
       "    <tr>\n",
       "      <th>1</th>\n",
       "      <td>0.000000</td>\n",
       "      <td>0.000000</td>\n",
       "      <td>0.000000</td>\n",
       "      <td>0.000000</td>\n",
       "      <td>0.0</td>\n",
       "      <td>0.000000</td>\n",
       "    </tr>\n",
       "    <tr>\n",
       "      <th>2</th>\n",
       "      <td>0.000000</td>\n",
       "      <td>0.000000</td>\n",
       "      <td>0.000000</td>\n",
       "      <td>0.000000</td>\n",
       "      <td>0.0</td>\n",
       "      <td>0.000000</td>\n",
       "    </tr>\n",
       "    <tr>\n",
       "      <th>3</th>\n",
       "      <td>0.000000</td>\n",
       "      <td>0.000000</td>\n",
       "      <td>0.000000</td>\n",
       "      <td>0.000000</td>\n",
       "      <td>0.0</td>\n",
       "      <td>0.000000</td>\n",
       "    </tr>\n",
       "    <tr>\n",
       "      <th>4</th>\n",
       "      <td>0.000000</td>\n",
       "      <td>0.000000</td>\n",
       "      <td>0.000000</td>\n",
       "      <td>0.000000</td>\n",
       "      <td>0.0</td>\n",
       "      <td>0.000000</td>\n",
       "    </tr>\n",
       "    <tr>\n",
       "      <th>...</th>\n",
       "      <td>...</td>\n",
       "      <td>...</td>\n",
       "      <td>...</td>\n",
       "      <td>...</td>\n",
       "      <td>...</td>\n",
       "      <td>...</td>\n",
       "    </tr>\n",
       "    <tr>\n",
       "      <th>1130</th>\n",
       "      <td>0.000751</td>\n",
       "      <td>-0.000139</td>\n",
       "      <td>-0.000753</td>\n",
       "      <td>0.000368</td>\n",
       "      <td>0.0</td>\n",
       "      <td>0.000046</td>\n",
       "    </tr>\n",
       "    <tr>\n",
       "      <th>1131</th>\n",
       "      <td>0.001246</td>\n",
       "      <td>-0.000258</td>\n",
       "      <td>0.000459</td>\n",
       "      <td>0.000126</td>\n",
       "      <td>0.0</td>\n",
       "      <td>0.000315</td>\n",
       "    </tr>\n",
       "    <tr>\n",
       "      <th>1132</th>\n",
       "      <td>0.000450</td>\n",
       "      <td>-0.000310</td>\n",
       "      <td>0.000472</td>\n",
       "      <td>-0.000379</td>\n",
       "      <td>0.0</td>\n",
       "      <td>0.000047</td>\n",
       "    </tr>\n",
       "    <tr>\n",
       "      <th>1133</th>\n",
       "      <td>0.000968</td>\n",
       "      <td>-0.001164</td>\n",
       "      <td>0.001671</td>\n",
       "      <td>0.000948</td>\n",
       "      <td>0.0</td>\n",
       "      <td>0.000484</td>\n",
       "    </tr>\n",
       "    <tr>\n",
       "      <th>1134</th>\n",
       "      <td>0.001036</td>\n",
       "      <td>-0.000453</td>\n",
       "      <td>-0.000250</td>\n",
       "      <td>0.001325</td>\n",
       "      <td>0.0</td>\n",
       "      <td>0.000332</td>\n",
       "    </tr>\n",
       "  </tbody>\n",
       "</table>\n",
       "<p>1135 rows × 6 columns</p>\n",
       "</div>"
      ],
      "text/plain": [
       "          AAPL       MMM      AMZN      MSFT  IBM       ret\n",
       "0     0.000000  0.000000  0.000000  0.000000  0.0  0.000000\n",
       "1     0.000000  0.000000  0.000000  0.000000  0.0  0.000000\n",
       "2     0.000000  0.000000  0.000000  0.000000  0.0  0.000000\n",
       "3     0.000000  0.000000  0.000000  0.000000  0.0  0.000000\n",
       "4     0.000000  0.000000  0.000000  0.000000  0.0  0.000000\n",
       "...        ...       ...       ...       ...  ...       ...\n",
       "1130  0.000751 -0.000139 -0.000753  0.000368  0.0  0.000046\n",
       "1131  0.001246 -0.000258  0.000459  0.000126  0.0  0.000315\n",
       "1132  0.000450 -0.000310  0.000472 -0.000379  0.0  0.000047\n",
       "1133  0.000968 -0.001164  0.001671  0.000948  0.0  0.000484\n",
       "1134  0.001036 -0.000453 -0.000250  0.001325  0.0  0.000332\n",
       "\n",
       "[1135 rows x 6 columns]"
      ]
     },
     "execution_count": 155,
     "metadata": {},
     "output_type": "execute_result"
    }
   ],
   "source": [
    "strategy_df"
   ]
  },
  {
   "cell_type": "code",
   "execution_count": 156,
   "metadata": {},
   "outputs": [
    {
     "name": "stdout",
     "output_type": "stream",
     "text": [
      "calculating KPIs for  AAPL\n",
      "calculating KPIs for  MMM\n",
      "calculating KPIs for  AMZN\n",
      "calculating KPIs for  MSFT\n",
      "calculating KPIs for  IBM\n"
     ]
    },
    {
     "data": {
      "text/html": [
       "<div>\n",
       "<style scoped>\n",
       "    .dataframe tbody tr th:only-of-type {\n",
       "        vertical-align: middle;\n",
       "    }\n",
       "\n",
       "    .dataframe tbody tr th {\n",
       "        vertical-align: top;\n",
       "    }\n",
       "\n",
       "    .dataframe thead th {\n",
       "        text-align: right;\n",
       "    }\n",
       "</style>\n",
       "<table border=\"1\" class=\"dataframe\">\n",
       "  <thead>\n",
       "    <tr style=\"text-align: right;\">\n",
       "      <th></th>\n",
       "      <th>Return</th>\n",
       "      <th>Sharpe Ratio</th>\n",
       "      <th>Max Drawdown</th>\n",
       "    </tr>\n",
       "  </thead>\n",
       "  <tbody>\n",
       "    <tr>\n",
       "      <th>AAPL</th>\n",
       "      <td>1.425490</td>\n",
       "      <td>9.489308</td>\n",
       "      <td>0.028130</td>\n",
       "    </tr>\n",
       "    <tr>\n",
       "      <th>MMM</th>\n",
       "      <td>0.317246</td>\n",
       "      <td>1.689847</td>\n",
       "      <td>0.046524</td>\n",
       "    </tr>\n",
       "    <tr>\n",
       "      <th>AMZN</th>\n",
       "      <td>0.590158</td>\n",
       "      <td>4.849467</td>\n",
       "      <td>0.020443</td>\n",
       "    </tr>\n",
       "    <tr>\n",
       "      <th>MSFT</th>\n",
       "      <td>0.138750</td>\n",
       "      <td>1.047966</td>\n",
       "      <td>0.021783</td>\n",
       "    </tr>\n",
       "    <tr>\n",
       "      <th>IBM</th>\n",
       "      <td>-0.032543</td>\n",
       "      <td>-0.847188</td>\n",
       "      <td>0.017040</td>\n",
       "    </tr>\n",
       "  </tbody>\n",
       "</table>\n",
       "</div>"
      ],
      "text/plain": [
       "        Return  Sharpe Ratio  Max Drawdown\n",
       "AAPL  1.425490      9.489308      0.028130\n",
       "MMM   0.317246      1.689847      0.046524\n",
       "AMZN  0.590158      4.849467      0.020443\n",
       "MSFT  0.138750      1.047966      0.021783\n",
       "IBM  -0.032543     -0.847188      0.017040"
      ]
     },
     "execution_count": 156,
     "metadata": {},
     "output_type": "execute_result"
    }
   ],
   "source": [
    "#calculating individual stock's KPIs\n",
    "cagr = {}\n",
    "sharpe_ratios = {}\n",
    "max_drawdown = {}\n",
    "for ticker in tickers:\n",
    "    print(\"calculating KPIs for \",ticker)      \n",
    "    cagr[ticker] =  CAGR(ohlc_renko[ticker])\n",
    "    sharpe_ratios[ticker] =  Sharpe(ohlc_renko[ticker],0.05)\n",
    "    max_drawdown[ticker] =  max_dd(ohlc_renko[ticker])\n",
    "\n",
    "KPI_df = pd.DataFrame([cagr,sharpe_ratios,max_drawdown],index=[\"Return\",\"Sharpe Ratio\",\"Max Drawdown\"])      \n",
    "KPI_df.T"
   ]
  },
  {
   "cell_type": "code",
   "execution_count": null,
   "metadata": {},
   "outputs": [],
   "source": []
  },
  {
   "cell_type": "code",
   "execution_count": null,
   "metadata": {},
   "outputs": [],
   "source": []
  },
  {
   "cell_type": "code",
   "execution_count": null,
   "metadata": {},
   "outputs": [],
   "source": []
  },
  {
   "cell_type": "code",
   "execution_count": null,
   "metadata": {},
   "outputs": [],
   "source": []
  },
  {
   "cell_type": "code",
   "execution_count": null,
   "metadata": {},
   "outputs": [],
   "source": []
  },
  {
   "cell_type": "code",
   "execution_count": null,
   "metadata": {},
   "outputs": [],
   "source": []
  },
  {
   "cell_type": "code",
   "execution_count": null,
   "metadata": {},
   "outputs": [],
   "source": []
  }
 ],
 "metadata": {
  "kernelspec": {
   "display_name": "Python 3",
   "language": "python",
   "name": "python3"
  },
  "language_info": {
   "codemirror_mode": {
    "name": "ipython",
    "version": 3
   },
   "file_extension": ".py",
   "mimetype": "text/x-python",
   "name": "python",
   "nbconvert_exporter": "python",
   "pygments_lexer": "ipython3",
   "version": "3.6.9"
  }
 },
 "nbformat": 4,
 "nbformat_minor": 2
}
