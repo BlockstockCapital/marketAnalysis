{
 "cells": [
  {
   "cell_type": "code",
   "execution_count": 214,
   "metadata": {},
   "outputs": [],
   "source": [
    "import pandas as pd\n",
    "import matplotlib.pyplot as plt\n",
    "%matplotlib inline\n",
    "import numpy as np\n",
    "import time\n",
    "import statsmodels.api as sm\n",
    "import sys\n",
    "from stocktrends import Renko\n",
    "import talib\n",
    "import yfinance as yf\n",
    "import copy\n",
    "from alpha_vantage.timeseries import TimeSeries\n",
    "from collections import OrderedDict\n",
    "from operator import itemgetter"
   ]
  },
  {
   "cell_type": "code",
   "execution_count": 215,
   "metadata": {},
   "outputs": [],
   "source": [
    "# !{sys.executable} -m pip install ..."
   ]
  },
  {
   "cell_type": "markdown",
   "metadata": {},
   "source": [
    "### Tech indicators"
   ]
  },
  {
   "cell_type": "code",
   "execution_count": 216,
   "metadata": {},
   "outputs": [],
   "source": [
    "def ATR(DF, n):\n",
    "    df = DF.copy()\n",
    "    df['H-L'] = abs(df['High'] - df['Low'])\n",
    "    df['H-PC'] = abs(df['High'] - df['Close'].shift(1))\n",
    "    df['L-PC'] = abs(df['Low'] - df['Close'].shift(1))\n",
    "    df['TR'] = df[['H-L', 'H-PC', 'L-PC']].max(axis=1, skipna=False)\n",
    "    df['ATR'] = df['TR'].rolling(n).mean()\n",
    "#     df['ATR'] = df['TR'].ewm(span=n, adjust=False, min_periods=n).mean()\n",
    "    df2 = df.drop(['H-L', 'H-PC', 'L-PC'], axis=1)\n",
    "    return df2['ATR']"
   ]
  },
  {
   "cell_type": "markdown",
   "metadata": {},
   "source": [
    "### KPI for the strategy"
   ]
  },
  {
   "cell_type": "code",
   "execution_count": 217,
   "metadata": {},
   "outputs": [],
   "source": [
    "def CAGR(DF):\n",
    "    df = DF.copy()\n",
    "#     df['daily_ret'] = df['close'].pct_change()\n",
    "    df['cum_ret'] = (1 + df['ret']).cumprod()\n",
    "#     print(df)\n",
    "    n = len(df) / (252 * 78)\n",
    "    CAGR = (df['cum_ret'].tolist()[-1]) ** (1/n) - 1\n",
    "    return CAGR\n",
    "\n",
    "\n",
    "def Vola(DF):\n",
    "    df = DF.copy()\n",
    "#     df['daily_ret'] = df['close'].pct_change()\n",
    "    vola = df['ret'].std()\n",
    "    volatility = vola * np.sqrt(252 * 78)\n",
    "#     annual_vola = vola * np.sqrt(12)\n",
    "# #     week_vola = vola * np.sqrt(52)\n",
    "#     month_vola = vola * np.sqrt(12)\n",
    "    return volatility\n",
    "\n",
    "\n",
    "def Sharpe(DF, rf):\n",
    "    df = DF.copy()\n",
    "    sr = ((CAGR(df) - rf) / Vola(df))\n",
    "    return sr\n",
    "\n",
    "\n",
    "def Sortino(DF, rf):\n",
    "    df = DF.copy()\n",
    "    df['ret'] = df['close'].pct_change()\n",
    "    neg_vola = df[df['ret'] < 0]['ret'].std() * np.sqrt(252 * 78)\n",
    "    sortino = (CAGR(df) - rf) / neg_vola\n",
    "    return sortino\n",
    "\n",
    "\n",
    "def max_dd(DF):\n",
    "    df = DF.copy()\n",
    "#     df['mon_ret'] = df['close'].pct_change()\n",
    "    df['cum_ret'] = (1 + df['ret']).cumprod()\n",
    "    df['cum_roll_max'] = df['cum_ret'].cummax()\n",
    "    df['drawdown'] = df['cum_roll_max'] - df['cum_ret']\n",
    "    df['drawdown_pct'] = df['drawdown'] / df['cum_roll_max']\n",
    "    max_dd = df['drawdown_pct'].max()\n",
    "    return max_dd\n",
    "\n",
    "\n",
    "def Calmar(DF):\n",
    "    df = DF.copy()\n",
    "    clmr = CAGR(df) / max_dd(df)\n",
    "    return clmr "
   ]
  },
  {
   "cell_type": "markdown",
   "metadata": {},
   "source": [
    "### Data fetching"
   ]
  },
  {
   "cell_type": "markdown",
   "metadata": {},
   "source": [
    "##### Bitcoin"
   ]
  },
  {
   "cell_type": "code",
   "execution_count": 218,
   "metadata": {},
   "outputs": [],
   "source": [
    "# start_date = '20140101'\n",
    "# # end_date = '20191101'\n",
    "# end_date = time.strftime(\"%Y%m%d\")"
   ]
  },
  {
   "cell_type": "code",
   "execution_count": 219,
   "metadata": {},
   "outputs": [],
   "source": [
    "# url =\"https://coinmarketcap.com/currencies/bitcoin/historical-data/?start=\" + start_date + \"&end=\" + end_date\n",
    "# example_df = pd.read_html(url)\n",
    "\n",
    "# data = example_df[2]\n",
    "# df =pd.DataFrame(data)\n",
    "\n",
    "# df['Date'] =  pd.to_datetime(df['Date']) # date\n",
    "# df.columns = ['Date','Open','High','Low','Close','Volume','Market Cap']\n",
    "# df.set_index('Date',inplace=True)\n",
    "# df.sort_index(inplace=True)\n"
   ]
  },
  {
   "cell_type": "markdown",
   "metadata": {},
   "source": [
    "##### Stocks"
   ]
  },
  {
   "cell_type": "code",
   "execution_count": 220,
   "metadata": {},
   "outputs": [],
   "source": [
    "tickers = ['AAPL', 'MMM', 'AMZN', 'MSFT', 'IBM', 'CAT', 'TSLA', 'EW']\n",
    "\n",
    "start_date_stocks = '2000-01-01'\n",
    "# end_date = "
   ]
  },
  {
   "cell_type": "code",
   "execution_count": 221,
   "metadata": {},
   "outputs": [
    {
     "name": "stdout",
     "output_type": "stream",
     "text": [
      "AMZNMSFT failed to fetch data..retrying\n",
      "TSLA failed to fetch data..retrying\n",
      "EW failed to fetch data..retrying\n",
      "AMZNMSFT failed to fetch data..retrying\n",
      "AMZNMSFT failed to fetch data..retrying\n",
      "AMZNMSFT failed to fetch data..retrying\n",
      "AMZNMSFT failed to fetch data..retrying\n",
      "AMZNMSFT failed to fetch data..retrying\n"
     ]
    }
   ],
   "source": [
    "ohlc_intraday = {} # to store stock data\n",
    "key_path = 'IFOZ40XUSKNEY85Z'\n",
    "ts = TimeSeries(key=key_path, output_format='pandas')\n",
    "# ts = timeseries(key=open(key_path, 'r').read(), output_format='pandas')\n",
    "\n",
    "attempt = 0 # initializing passthrough variable\n",
    "drop = [] # initializing list to store stock whose close price was successfuly extracted\n",
    "\n",
    "while len(tickers) != 0 and attempt <= 5:\n",
    "    tickers = [j for j in tickers if j not in drop] # removing stocks which tiker has been extracted\n",
    "    for i in range(len(tickers)):\n",
    "        try:\n",
    "            ohlc_intraday[tickers[i]] = ts.get_intraday(symbol=tickers[i], interval = '5min', outputsize='full')[0]\n",
    "            ohlc_intraday[tickers[i]].columns = ['Open', 'High', 'Low', 'Close', 'Volume']\n",
    "            ohlc_intraday[tickers[i]].sort_index(inplace=True)\n",
    "            drop.append(tickers[i])\n",
    "        except:\n",
    "            print(tickers[i], 'failed to fetch data..retrying')\n",
    "            continue\n",
    "    attempt += 1\n",
    "\n",
    "\n",
    "tickers = ohlc_intraday.keys() #redefine tickers variable after removing any tickers with corrupted data\n"
   ]
  },
  {
   "cell_type": "code",
   "execution_count": 222,
   "metadata": {},
   "outputs": [
    {
     "name": "stdout",
     "output_type": "stream",
     "text": [
      "calculating ATR and rolling max price for AAPL\n",
      "calculating ATR and rolling max price for MMM\n",
      "calculating ATR and rolling max price for IBM\n",
      "calculating ATR and rolling max price for CAT\n",
      "calculating ATR and rolling max price for TSLA\n",
      "calculating ATR and rolling max price for EW\n"
     ]
    }
   ],
   "source": [
    "# calculating ATR and rolliing max price for each sock and consolidation info by stock in a series\n",
    "ohlc_dict = copy.deepcopy(ohlc_intraday)\n",
    "tickers_signal = {}\n",
    "tickers_ret = {}\n",
    "for ticker in tickers:\n",
    "    print('calculating ATR and rolling max price for', ticker)\n",
    "    ohlc_dict[ticker]['ATR'] = ATR(ohlc_dict[ticker], 20)\n",
    "    ohlc_dict[ticker]['roll_max_cp'] = ohlc_dict[ticker]['High'].rolling(20).max()\n",
    "    ohlc_dict[ticker]['roll_min_cp'] = ohlc_dict[ticker]['Low'].rolling(20).min()\n",
    "    ohlc_dict[ticker]['roll_max_vol'] = ohlc_dict[ticker]['Volume'].rolling(20).max()\n",
    "    ohlc_dict[ticker].dropna(inplace=True)\n",
    "    tickers_signal[ticker] = ''\n",
    "    tickers_ret[ticker] = []"
   ]
  },
  {
   "cell_type": "code",
   "execution_count": 223,
   "metadata": {},
   "outputs": [
    {
     "name": "stdout",
     "output_type": "stream",
     "text": [
      "calculating returns for  AAPL\n",
      "calculating returns for  MMM\n",
      "calculating returns for  IBM\n",
      "calculating returns for  CAT\n",
      "calculating returns for  TSLA\n",
      "calculating returns for  EW\n"
     ]
    }
   ],
   "source": [
    "for ticker in tickers:\n",
    "    print('calculating returns for ',ticker)\n",
    "    for i in range(len(ohlc_dict[ticker])):\n",
    "        if tickers_signal[ticker] == '':\n",
    "            tickers_ret[ticker].append(0)\n",
    "            if ohlc_dict[ticker]['High'][i] >= ohlc_dict[ticker]['roll_max_cp'][i] and \\\n",
    "               ohlc_dict[ticker]['Volume'][i] > 1.5 * ohlc_dict[ticker]['roll_max_vol'][i-1]:\n",
    "                tickers_signal[ticker] = 'Buy'\n",
    "            elif ohlc_dict[ticker]['Low'][i] <= ohlc_dict[ticker]['roll_min_cp'][i] and \\\n",
    "               ohlc_dict[ticker]['Volume'][i] > 1.5 * ohlc_dict[ticker]['roll_max_vol'][i-1]:\n",
    "                tickers_signal[ticker] = 'Sell'\n",
    "        \n",
    "        elif tickers_signal[ticker] == 'Buy':\n",
    "            if ohlc_dict[ticker]['Close'][i] < ohlc_dict[ticker]['Close'][i-1] - ohlc_dict[ticker]['ATR'][i-1]:\n",
    "                tickers_signal[ticker] = ''\n",
    "                tickers_ret[ticker].append(((ohlc_dict[ticker]['Close'][i-1] - ohlc_dict[ticker]['ATR'][i-1])/ohlc_dict[ticker]['Close'][i-1])-1)\n",
    "            elif ohlc_dict[ticker]['Low'][i] <= ohlc_dict[ticker]['roll_min_cp'][i] and \\\n",
    "               ohlc_dict[ticker]['Volume'][i] > 1.5 * ohlc_dict[ticker]['roll_max_vol'][i-1]:\n",
    "                tickers_signal[ticker] = 'Sell'\n",
    "                tickers_ret[ticker].append(((ohlc_dict[ticker]['Close'][i-1] - ohlc_dict[ticker]['ATR'][i-1]) / ohlc_dict[ticker]['Close'][i-1])-1)\n",
    "            else:\n",
    "                tickers_ret[ticker].append((ohlc_dict[ticker]['Close'][i] / ohlc_dict[ticker]['Close'][i-1])-1)\n",
    "        \n",
    "        elif tickers_signal[ticker] == 'Sell':\n",
    "            if ohlc_dict[ticker]['Close'][i] > ohlc_dict[ticker]['Close'][i-1] + ohlc_dict[ticker]['ATR'][i-1]:\n",
    "                tickers_signal[ticker] = ''\n",
    "                tickers_ret[ticker].append((ohlc_dict[ticker]['Close'][i-1] / (ohlc_dict[ticker]['Close'][i-1] + ohlc_dict[ticker]['ATR'][i-1]))-1)\n",
    "            elif ohlc_dict[ticker]['High'][i] >= ohlc_dict[ticker]['roll_max_cp'][i] and \\\n",
    "               ohlc_dict[ticker]['Volume'][i] > 1.5 * ohlc_dict[ticker]['roll_max_vol'][i-1]:\n",
    "                tickers_signal[ticker] = 'Buy'\n",
    "                tickers_ret[ticker].append((ohlc_dict[ticker]['Close'][i-1] / (ohlc_dict[ticker]['Close'][i-1] + ohlc_dict[ticker]['ATR'][i-1]))-1)\n",
    "            else:\n",
    "                tickers_ret[ticker].append((ohlc_dict[ticker]['Close'][i-1]/ohlc_dict[ticker]['Close'][i])-1)\n",
    "                \n",
    "    ohlc_dict[ticker]['ret'] = np.array(tickers_ret[ticker])"
   ]
  },
  {
   "cell_type": "code",
   "execution_count": null,
   "metadata": {},
   "outputs": [],
   "source": []
  },
  {
   "cell_type": "code",
   "execution_count": 224,
   "metadata": {},
   "outputs": [
    {
     "name": "stdout",
     "output_type": "stream",
     "text": [
      "0.8622088520713982\n",
      "24.128487074461944\n",
      "0.003166500298088613\n"
     ]
    }
   ],
   "source": [
    "# calculating overall strategy's KPI\n",
    "\n",
    "strategy_df = pd.DataFrame()\n",
    "for ticker in tickers:\n",
    "    strategy_df[ticker] = ohlc_dict[ticker]['ret']\n",
    "strategy_df['ret'] = strategy_df.mean(axis=1)\n",
    "print(CAGR(strategy_df))\n",
    "print(Sharpe(strategy_df, 0))\n",
    "print(max_dd(strategy_df))"
   ]
  },
  {
   "cell_type": "code",
   "execution_count": 225,
   "metadata": {},
   "outputs": [
    {
     "data": {
      "image/png": "[encoded data removed]",
      "text/plain": [
       "<Figure size 432x288 with 1 Axes>"
      ]
     },
     "metadata": {
      "needs_background": "light"
     },
     "output_type": "display_data"
    }
   ],
   "source": [
    "# vizualization of strategy return\n",
    "(1 + strategy_df['ret']).cumprod().plot();"
   ]
  },
  {
   "cell_type": "code",
   "execution_count": 226,
   "metadata": {},
   "outputs": [
    {
     "data": {
      "text/html": [
       "<div>\n",
       "<style scoped>\n",
       "    .dataframe tbody tr th:only-of-type {\n",
       "        vertical-align: middle;\n",
       "    }\n",
       "\n",
       "    .dataframe tbody tr th {\n",
       "        vertical-align: top;\n",
       "    }\n",
       "\n",
       "    .dataframe thead th {\n",
       "        text-align: right;\n",
       "    }\n",
       "</style>\n",
       "<table border=\"1\" class=\"dataframe\">\n",
       "  <thead>\n",
       "    <tr style=\"text-align: right;\">\n",
       "      <th></th>\n",
       "      <th>AAPL</th>\n",
       "      <th>MMM</th>\n",
       "      <th>IBM</th>\n",
       "      <th>CAT</th>\n",
       "      <th>TSLA</th>\n",
       "      <th>EW</th>\n",
       "      <th>ret</th>\n",
       "    </tr>\n",
       "    <tr>\n",
       "      <th>date</th>\n",
       "      <th></th>\n",
       "      <th></th>\n",
       "      <th></th>\n",
       "      <th></th>\n",
       "      <th></th>\n",
       "      <th></th>\n",
       "      <th></th>\n",
       "    </tr>\n",
       "  </thead>\n",
       "  <tbody>\n",
       "    <tr>\n",
       "      <th>2019-12-03 11:15:00</th>\n",
       "      <td>0.0</td>\n",
       "      <td>0.0</td>\n",
       "      <td>0.0</td>\n",
       "      <td>0.0</td>\n",
       "      <td>0.000000</td>\n",
       "      <td>0.0</td>\n",
       "      <td>0.000000</td>\n",
       "    </tr>\n",
       "    <tr>\n",
       "      <th>2019-12-03 11:20:00</th>\n",
       "      <td>0.0</td>\n",
       "      <td>0.0</td>\n",
       "      <td>0.0</td>\n",
       "      <td>0.0</td>\n",
       "      <td>0.000000</td>\n",
       "      <td>0.0</td>\n",
       "      <td>0.000000</td>\n",
       "    </tr>\n",
       "    <tr>\n",
       "      <th>2019-12-03 11:25:00</th>\n",
       "      <td>0.0</td>\n",
       "      <td>0.0</td>\n",
       "      <td>0.0</td>\n",
       "      <td>0.0</td>\n",
       "      <td>0.000000</td>\n",
       "      <td>0.0</td>\n",
       "      <td>0.000000</td>\n",
       "    </tr>\n",
       "    <tr>\n",
       "      <th>2019-12-03 11:30:00</th>\n",
       "      <td>0.0</td>\n",
       "      <td>0.0</td>\n",
       "      <td>0.0</td>\n",
       "      <td>0.0</td>\n",
       "      <td>0.000000</td>\n",
       "      <td>0.0</td>\n",
       "      <td>0.000000</td>\n",
       "    </tr>\n",
       "    <tr>\n",
       "      <th>2019-12-03 11:35:00</th>\n",
       "      <td>0.0</td>\n",
       "      <td>0.0</td>\n",
       "      <td>0.0</td>\n",
       "      <td>0.0</td>\n",
       "      <td>0.000000</td>\n",
       "      <td>0.0</td>\n",
       "      <td>0.000000</td>\n",
       "    </tr>\n",
       "    <tr>\n",
       "      <th>...</th>\n",
       "      <td>...</td>\n",
       "      <td>...</td>\n",
       "      <td>...</td>\n",
       "      <td>...</td>\n",
       "      <td>...</td>\n",
       "      <td>...</td>\n",
       "      <td>...</td>\n",
       "    </tr>\n",
       "    <tr>\n",
       "      <th>2019-12-23 12:45:00</th>\n",
       "      <td>0.0</td>\n",
       "      <td>0.0</td>\n",
       "      <td>0.0</td>\n",
       "      <td>0.0</td>\n",
       "      <td>-0.001052</td>\n",
       "      <td>0.0</td>\n",
       "      <td>-0.000175</td>\n",
       "    </tr>\n",
       "    <tr>\n",
       "      <th>2019-12-23 12:50:00</th>\n",
       "      <td>0.0</td>\n",
       "      <td>0.0</td>\n",
       "      <td>0.0</td>\n",
       "      <td>0.0</td>\n",
       "      <td>-0.000404</td>\n",
       "      <td>0.0</td>\n",
       "      <td>-0.000067</td>\n",
       "    </tr>\n",
       "    <tr>\n",
       "      <th>2019-12-23 12:55:00</th>\n",
       "      <td>0.0</td>\n",
       "      <td>0.0</td>\n",
       "      <td>0.0</td>\n",
       "      <td>0.0</td>\n",
       "      <td>0.000547</td>\n",
       "      <td>0.0</td>\n",
       "      <td>0.000091</td>\n",
       "    </tr>\n",
       "    <tr>\n",
       "      <th>2019-12-23 13:00:00</th>\n",
       "      <td>0.0</td>\n",
       "      <td>0.0</td>\n",
       "      <td>0.0</td>\n",
       "      <td>0.0</td>\n",
       "      <td>-0.001830</td>\n",
       "      <td>0.0</td>\n",
       "      <td>-0.000305</td>\n",
       "    </tr>\n",
       "    <tr>\n",
       "      <th>2019-12-23 13:05:00</th>\n",
       "      <td>0.0</td>\n",
       "      <td>0.0</td>\n",
       "      <td>0.0</td>\n",
       "      <td>0.0</td>\n",
       "      <td>0.000000</td>\n",
       "      <td>0.0</td>\n",
       "      <td>0.000000</td>\n",
       "    </tr>\n",
       "  </tbody>\n",
       "</table>\n",
       "<p>1115 rows × 7 columns</p>\n",
       "</div>"
      ],
      "text/plain": [
       "                     AAPL  MMM  IBM  CAT      TSLA   EW       ret\n",
       "date                                                             \n",
       "2019-12-03 11:15:00   0.0  0.0  0.0  0.0  0.000000  0.0  0.000000\n",
       "2019-12-03 11:20:00   0.0  0.0  0.0  0.0  0.000000  0.0  0.000000\n",
       "2019-12-03 11:25:00   0.0  0.0  0.0  0.0  0.000000  0.0  0.000000\n",
       "2019-12-03 11:30:00   0.0  0.0  0.0  0.0  0.000000  0.0  0.000000\n",
       "2019-12-03 11:35:00   0.0  0.0  0.0  0.0  0.000000  0.0  0.000000\n",
       "...                   ...  ...  ...  ...       ...  ...       ...\n",
       "2019-12-23 12:45:00   0.0  0.0  0.0  0.0 -0.001052  0.0 -0.000175\n",
       "2019-12-23 12:50:00   0.0  0.0  0.0  0.0 -0.000404  0.0 -0.000067\n",
       "2019-12-23 12:55:00   0.0  0.0  0.0  0.0  0.000547  0.0  0.000091\n",
       "2019-12-23 13:00:00   0.0  0.0  0.0  0.0 -0.001830  0.0 -0.000305\n",
       "2019-12-23 13:05:00   0.0  0.0  0.0  0.0  0.000000  0.0  0.000000\n",
       "\n",
       "[1115 rows x 7 columns]"
      ]
     },
     "execution_count": 226,
     "metadata": {},
     "output_type": "execute_result"
    }
   ],
   "source": [
    "strategy_df"
   ]
  },
  {
   "cell_type": "code",
   "execution_count": 227,
   "metadata": {},
   "outputs": [
    {
     "name": "stdout",
     "output_type": "stream",
     "text": [
      "calculating KPIs for  AAPL\n",
      "calculating KPIs for  MMM\n",
      "calculating KPIs for  IBM\n",
      "calculating KPIs for  CAT\n",
      "calculating KPIs for  TSLA\n",
      "calculating KPIs for  EW\n"
     ]
    },
    {
     "data": {
      "text/html": [
       "<div>\n",
       "<style scoped>\n",
       "    .dataframe tbody tr th:only-of-type {\n",
       "        vertical-align: middle;\n",
       "    }\n",
       "\n",
       "    .dataframe tbody tr th {\n",
       "        vertical-align: top;\n",
       "    }\n",
       "\n",
       "    .dataframe thead th {\n",
       "        text-align: right;\n",
       "    }\n",
       "</style>\n",
       "<table border=\"1\" class=\"dataframe\">\n",
       "  <thead>\n",
       "    <tr style=\"text-align: right;\">\n",
       "      <th></th>\n",
       "      <th>Return</th>\n",
       "      <th>Sharpe Ratio</th>\n",
       "      <th>Max Drawdown</th>\n",
       "    </tr>\n",
       "  </thead>\n",
       "  <tbody>\n",
       "    <tr>\n",
       "      <th>AAPL</th>\n",
       "      <td>0.817132</td>\n",
       "      <td>11.323745</td>\n",
       "      <td>0.007975</td>\n",
       "    </tr>\n",
       "    <tr>\n",
       "      <th>MMM</th>\n",
       "      <td>1.178825</td>\n",
       "      <td>12.840476</td>\n",
       "      <td>0.007321</td>\n",
       "    </tr>\n",
       "    <tr>\n",
       "      <th>IBM</th>\n",
       "      <td>0.110152</td>\n",
       "      <td>3.103529</td>\n",
       "      <td>0.003841</td>\n",
       "    </tr>\n",
       "    <tr>\n",
       "      <th>CAT</th>\n",
       "      <td>0.530466</td>\n",
       "      <td>6.459210</td>\n",
       "      <td>0.015115</td>\n",
       "    </tr>\n",
       "    <tr>\n",
       "      <th>TSLA</th>\n",
       "      <td>3.472848</td>\n",
       "      <td>27.975154</td>\n",
       "      <td>0.008175</td>\n",
       "    </tr>\n",
       "    <tr>\n",
       "      <th>EW</th>\n",
       "      <td>0.365595</td>\n",
       "      <td>7.957903</td>\n",
       "      <td>0.004363</td>\n",
       "    </tr>\n",
       "  </tbody>\n",
       "</table>\n",
       "</div>"
      ],
      "text/plain": [
       "        Return  Sharpe Ratio  Max Drawdown\n",
       "AAPL  0.817132     11.323745      0.007975\n",
       "MMM   1.178825     12.840476      0.007321\n",
       "IBM   0.110152      3.103529      0.003841\n",
       "CAT   0.530466      6.459210      0.015115\n",
       "TSLA  3.472848     27.975154      0.008175\n",
       "EW    0.365595      7.957903      0.004363"
      ]
     },
     "execution_count": 227,
     "metadata": {},
     "output_type": "execute_result"
    }
   ],
   "source": [
    "#calculating individual stock's KPIs\n",
    "cagr = {}\n",
    "sharpe_ratios = {}\n",
    "max_drawdown = {}\n",
    "for ticker in tickers:\n",
    "    print(\"calculating KPIs for \",ticker)      \n",
    "    cagr[ticker] =  CAGR(ohlc_dict[ticker])\n",
    "    sharpe_ratios[ticker] =  Sharpe(ohlc_dict[ticker],0.025)\n",
    "    max_drawdown[ticker] =  max_dd(ohlc_dict[ticker])\n",
    "\n",
    "KPI_df = pd.DataFrame([cagr,sharpe_ratios,max_drawdown],index=['Return', 'Sharpe Ratio', 'Max Drawdown'])      \n",
    "KPI_df.T"
   ]
  },
  {
   "cell_type": "code",
   "execution_count": null,
   "metadata": {},
   "outputs": [],
   "source": []
  },
  {
   "cell_type": "code",
   "execution_count": null,
   "metadata": {},
   "outputs": [],
   "source": []
  },
  {
   "cell_type": "code",
   "execution_count": null,
   "metadata": {},
   "outputs": [],
   "source": []
  },
  {
   "cell_type": "code",
   "execution_count": null,
   "metadata": {},
   "outputs": [],
   "source": []
  },
  {
   "cell_type": "code",
   "execution_count": null,
   "metadata": {},
   "outputs": [],
   "source": []
  },
  {
   "cell_type": "code",
   "execution_count": null,
   "metadata": {},
   "outputs": [],
   "source": []
  },
  {
   "cell_type": "code",
   "execution_count": null,
   "metadata": {},
   "outputs": [],
   "source": []
  }
 ],
 "metadata": {
  "kernelspec": {
   "display_name": "Python 3",
   "language": "python",
   "name": "python3"
  },
  "language_info": {
   "codemirror_mode": {
    "name": "ipython",
    "version": 3
   },
   "file_extension": ".py",
   "mimetype": "text/x-python",
   "name": "python",
   "nbconvert_exporter": "python",
   "pygments_lexer": "ipython3",
   "version": "3.6.9"
  }
 },
 "nbformat": 4,
 "nbformat_minor": 2
}
