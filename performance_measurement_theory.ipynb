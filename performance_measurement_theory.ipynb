{
 "cells": [
  {
   "cell_type": "code",
   "execution_count": 3,
   "metadata": {},
   "outputs": [],
   "source": [
    "import pandas as pd\n",
    "import matplotlib.pyplot as plt\n",
    "%matplotlib inline\n",
    "import numpy as np\n",
    "import time\n",
    "import statsmodels.api as sm\n",
    "import sys"
   ]
  },
  {
   "cell_type": "code",
   "execution_count": 4,
   "metadata": {},
   "outputs": [],
   "source": [
    "# !{sys.executable} -m pip install stocktrends"
   ]
  },
  {
   "cell_type": "code",
   "execution_count": 14,
   "metadata": {},
   "outputs": [],
   "source": [
    "start_date = '20131231'\n",
    "# end_date = '20191101'\n",
    "end_date = time.strftime(\"%Y%m%d\")"
   ]
  },
  {
   "cell_type": "code",
   "execution_count": 24,
   "metadata": {},
   "outputs": [],
   "source": [
    "url =\"https://coinmarketcap.com/currencies/bitcoin/historical-data/?start=\" + start_date + \"&end=\" + end_date\n",
    "example_df = pd.read_html(url)\n",
    "\n",
    "data = example_df[2]\n",
    "df =pd.DataFrame(data)\n",
    "\n",
    "df['Date'] =  pd.to_datetime(df['Date']) # date\n",
    "df.columns = ['date','open','high','low','close','volume','market cap']\n",
    "df.set_index('date',inplace=True)\n",
    "df.sort_index(inplace=True)\n",
    "# df['log_ret'] = np.log(df['close'] / df['close'].shift(1))\n",
    "# df['return'] = df['close'].pct_change(1)\n",
    "# df['vola'] = df['return'].rolling(15).std()*(360**0.5)*100"
   ]
  },
  {
   "cell_type": "markdown",
   "metadata": {},
   "source": [
    "### CAGR"
   ]
  },
  {
   "cell_type": "code",
   "execution_count": 79,
   "metadata": {},
   "outputs": [],
   "source": [
    "def CAGR(DF):\n",
    "    df = DF.copy()\n",
    "    df['daily_ret'] = df['close'].pct_change()\n",
    "    df['cum_ret'] = (1 + df['daily_ret']).cumprod()\n",
    "    n = len(df) / 365\n",
    "    CAGR = (df['cum_ret'][-1]) ** (1/n) - 1\n",
    "    return CAGR"
   ]
  },
  {
   "cell_type": "code",
   "execution_count": 40,
   "metadata": {},
   "outputs": [
    {
     "data": {
      "text/plain": [
       "0.43992024695954224"
      ]
     },
     "execution_count": 40,
     "metadata": {},
     "output_type": "execute_result"
    }
   ],
   "source": [
    "CAGR(df)"
   ]
  },
  {
   "cell_type": "markdown",
   "metadata": {},
   "source": [
    "### Vola"
   ]
  },
  {
   "cell_type": "code",
   "execution_count": 59,
   "metadata": {},
   "outputs": [],
   "source": [
    "def Vola(DF):\n",
    "    df = DF.copy()\n",
    "    df['daily_ret'] = df['close'].pct_change()\n",
    "    vola = df['daily_ret'].std()\n",
    "    annual_vola = vola * np.sqrt(365)\n",
    "#     week_vola = vola * np.sqrt(52)\n",
    "#     month_vola = vola * np.sqrt(12)\n",
    "    return annual_vola"
   ]
  },
  {
   "cell_type": "code",
   "execution_count": 60,
   "metadata": {},
   "outputs": [
    {
     "data": {
      "text/plain": [
       "0.7438497923156482"
      ]
     },
     "execution_count": 60,
     "metadata": {},
     "output_type": "execute_result"
    }
   ],
   "source": [
    "Vola(df)"
   ]
  },
  {
   "cell_type": "code",
   "execution_count": 64,
   "metadata": {},
   "outputs": [],
   "source": [
    "def Sharpe(DF, rf):\n",
    "    df = DF.copy()\n",
    "    sr = (CAGR(df) - rf) / Vola(df)\n",
    "    return sr"
   ]
  },
  {
   "cell_type": "code",
   "execution_count": 68,
   "metadata": {},
   "outputs": [
    {
     "data": {
      "text/plain": [
       "0.43992024695954224"
      ]
     },
     "execution_count": 68,
     "metadata": {},
     "output_type": "execute_result"
    }
   ],
   "source": [
    "Sharpe(df, 0)"
   ]
  },
  {
   "cell_type": "code",
   "execution_count": 86,
   "metadata": {},
   "outputs": [],
   "source": [
    "def Sortino(DF, rf):\n",
    "    df = DF.copy()\n",
    "    df['daily_ret'] = df['close'].pct_change()\n",
    "    neg_vola = df[df['daily_ret'] < 0]['daily_ret'].std() * np.sqrt(365)\n",
    "    sortino = (CAGR(df) - rf) / neg_vola\n",
    "    return sortino"
   ]
  },
  {
   "cell_type": "code",
   "execution_count": 87,
   "metadata": {},
   "outputs": [
    {
     "data": {
      "text/plain": [
       "0.7710621205466828"
      ]
     },
     "execution_count": 87,
     "metadata": {},
     "output_type": "execute_result"
    }
   ],
   "source": [
    "Sortino(df, 0)"
   ]
  },
  {
   "cell_type": "markdown",
   "metadata": {},
   "source": [
    "### Max Drawdown"
   ]
  },
  {
   "cell_type": "code",
   "execution_count": 118,
   "metadata": {},
   "outputs": [],
   "source": [
    "def max_dd(DF):\n",
    "    df = DF.copy()\n",
    "    df['daily_ret'] = df['close'].pct_change()\n",
    "    df['cum_ret'] = (1 + df['daily_ret']).cumprod()\n",
    "    df['cum_roll_max'] = df['cum_ret'].cummax()\n",
    "    df['drawdown'] = df['cum_roll_max'] - df['cum_ret']\n",
    "    df['drawdown_pct'] = df['drawdown'] / df['cum_roll_max']\n",
    "    max_dd = df['drawdown_pct'].max()\n",
    "    return max_dd"
   ]
  },
  {
   "cell_type": "code",
   "execution_count": 119,
   "metadata": {},
   "outputs": [
    {
     "data": {
      "text/plain": [
       "0.833990173048714"
      ]
     },
     "execution_count": 119,
     "metadata": {},
     "output_type": "execute_result"
    }
   ],
   "source": [
    "max_dd(df)"
   ]
  },
  {
   "cell_type": "code",
   "execution_count": 126,
   "metadata": {},
   "outputs": [],
   "source": [
    "def Calmar(DF):\n",
    "    df = DF.copy()\n",
    "    clmr = CAGR(df) / max_dd(df)\n",
    "    return clmr    "
   ]
  },
  {
   "cell_type": "code",
   "execution_count": 127,
   "metadata": {},
   "outputs": [
    {
     "data": {
      "text/plain": [
       "0.5274885258556232"
      ]
     },
     "execution_count": 127,
     "metadata": {},
     "output_type": "execute_result"
    }
   ],
   "source": [
    "Calmar(df)"
   ]
  },
  {
   "cell_type": "code",
   "execution_count": null,
   "metadata": {},
   "outputs": [],
   "source": []
  },
  {
   "cell_type": "code",
   "execution_count": null,
   "metadata": {},
   "outputs": [],
   "source": []
  },
  {
   "cell_type": "code",
   "execution_count": null,
   "metadata": {},
   "outputs": [],
   "source": []
  },
  {
   "cell_type": "code",
   "execution_count": null,
   "metadata": {},
   "outputs": [],
   "source": []
  }
 ],
 "metadata": {
  "kernelspec": {
   "display_name": "Python 3",
   "language": "python",
   "name": "python3"
  },
  "language_info": {
   "codemirror_mode": {
    "name": "ipython",
    "version": 3
   },
   "file_extension": ".py",
   "mimetype": "text/x-python",
   "name": "python",
   "nbconvert_exporter": "python",
   "pygments_lexer": "ipython3",
   "version": "3.6.9"
  }
 },
 "nbformat": 4,
 "nbformat_minor": 2
}
